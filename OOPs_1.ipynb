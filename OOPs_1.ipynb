{
 "cells": [
  {
   "cell_type": "code",
   "execution_count": 1,
   "id": "4613cee6",
   "metadata": {
    "colab": {
     "base_uri": "https://localhost:8080/"
    },
    "id": "4613cee6",
    "outputId": "e622d0d3-2031-40d6-fd48-2428315454ea"
   },
   "outputs": [
    {
     "name": "stdout",
     "output_type": "stream",
     "text": [
      "Reactangle (2, 10)\n",
      "Area: 20\n",
      "Perimeter: 24\n",
      "Reactangle (5, 30)\n",
      "Area: 150\n",
      "Perimeter: 70\n",
      "Reactangle (3, 12)\n",
      "Area: 36\n",
      "Perimeter: 30\n"
     ]
    }
   ],
   "source": [
    "# Q1.\n",
    "# a. Write a program to create a class Rectangle. Initialize the length and breadth\n",
    "# of the rectangle.\n",
    "\n",
    "# b. Create 2 instance methods: one to return the area and another to\n",
    "# return the perimeter of the given rectangle.\n",
    "\n",
    "# c. Create 3 Rectangle objects. Each object will take 2 values as mentioned above -\n",
    "# length and breadth of that rectangle.\n",
    "\n",
    "# d. print the area and perimeters of each rectangle object.\n",
    "\n",
    "def print_area_peri(obj):\n",
    "        print('Area:',obj.area_of_rectangle(obj.length,obj.breadth))\n",
    "        print('Perimeter:',obj.perimeter_of_rectangle(obj.length,obj.breadth))\n",
    "\n",
    "class Rectangle:\n",
    "\n",
    "    '''\n",
    "        Create a class Rectangle with attributes length and breadth\n",
    "        class Rectangle should also have instance methods\n",
    "        for calculating area and perimeter of rectangle\n",
    "    '''\n",
    "\n",
    "    # def __init__(self,l,b):\n",
    "    #     self.length = l\n",
    "    #     self.breadth = b\n",
    "\n",
    "    def area_of_rectangle(self,length,breadth):\n",
    "        return length*breadth\n",
    "\n",
    "    def perimeter_of_rectangle(self,length,breadth):\n",
    "        return 2*(length+breadth)\n",
    "\n",
    "rect1 = Rectangle()\n",
    "rect1.length = 2\n",
    "rect1.breadth = 10\n",
    "print(f'Reactangle {rect1.length,rect1.breadth}')\n",
    "print_area_peri(rect1)\n",
    "\n",
    "rect2 = Rectangle()\n",
    "rect2.length = 5\n",
    "rect2.breadth = 30\n",
    "print(f'Reactangle {rect2.length,rect2.breadth}')\n",
    "print_area_peri(rect2)\n",
    "\n",
    "rect3 = Rectangle()\n",
    "rect3.length = 3\n",
    "rect3.breadth = 12\n",
    "print(f'Reactangle {rect3.length,rect3.breadth}')\n",
    "print_area_peri(rect3)\n",
    "\n"
   ]
  },
  {
   "cell_type": "code",
   "execution_count": 2,
   "id": "9f2c3cdf",
   "metadata": {
    "colab": {
     "base_uri": "https://localhost:8080/"
    },
    "id": "9f2c3cdf",
    "outputId": "f897ceea-fcc2-470a-a9d2-7fc7c85edd35"
   },
   "outputs": [
    {
     "name": "stdout",
     "output_type": "stream",
     "text": [
      "\n",
      "        Create a class Rectangle with attributes length and breadth\n",
      "        class Rectangle should also have instance methods\n",
      "        for calculating area and perimeter of rectangle\n",
      "    \n",
      "{'__module__': '__main__', '__doc__': '\\n        Create a class Rectangle with attributes length and breadth\\n        class Rectangle should also have instance methods\\n        for calculating area and perimeter of rectangle\\n    ', 'area_of_rectangle': <function Rectangle.area_of_rectangle at 0x00000197427B3880>, 'perimeter_of_rectangle': <function Rectangle.perimeter_of_rectangle at 0x00000197427B3910>, '__dict__': <attribute '__dict__' of 'Rectangle' objects>, '__weakref__': <attribute '__weakref__' of 'Rectangle' objects>}\n",
      "Help on class Rectangle in module __main__:\n",
      "\n",
      "class Rectangle(builtins.object)\n",
      " |  Create a class Rectangle with attributes length and breadth\n",
      " |  class Rectangle should also have instance methods\n",
      " |  for calculating area and perimeter of rectangle\n",
      " |  \n",
      " |  Methods defined here:\n",
      " |  \n",
      " |  area_of_rectangle(self, length, breadth)\n",
      " |  \n",
      " |  perimeter_of_rectangle(self, length, breadth)\n",
      " |  \n",
      " |  ----------------------------------------------------------------------\n",
      " |  Data descriptors defined here:\n",
      " |  \n",
      " |  __dict__\n",
      " |      dictionary for instance variables (if defined)\n",
      " |  \n",
      " |  __weakref__\n",
      " |      list of weak references to the object (if defined)\n",
      "\n"
     ]
    }
   ],
   "source": [
    "# Q2.\n",
    "# a. Add documentation for class Rectangle.\n",
    "# b. Check the doc using special method\n",
    "print(Rectangle.__dict__['__doc__'])\n",
    "# c. Print all the details of the class (Use special attribute)\n",
    "print(Rectangle.__dict__)\n",
    "# d. Print all the details of the class (Use help)\n",
    "help(Rectangle)\n",
    "# Observe the differences"
   ]
  },
  {
   "cell_type": "code",
   "execution_count": 12,
   "id": "c326cd8c",
   "metadata": {
    "colab": {
     "base_uri": "https://localhost:8080/"
    },
    "id": "c326cd8c",
    "outputId": "cb8b2cca-08bd-4978-8b70-e1b9b18fcff3"
   },
   "outputs": [
    {
     "name": "stdout",
     "output_type": "stream",
     "text": [
      "Rectangle 1:  2 10\n",
      "Rectangle 2:  5 30\n",
      "Rectangle 3:  3 12\n",
      "4 5 5\n",
      "{'length': 4, 'breadth': 10, 'depth': 10}\n"
     ]
    }
   ],
   "source": [
    "# Q3.\n",
    "# a. Access the attributes using a object\n",
    "print('Rectangle 1: ',rect1.length,rect1.breadth)\n",
    "print('Rectangle 2: ',rect2.length,rect2.breadth)\n",
    "print('Rectangle 3: ',rect3.length,rect3.breadth)\n",
    "# b. Change the height of one of the rectangle objects\n",
    "rect1.length = 4\n",
    "# c. Check if makes any difference to the height attribute of other objects.\n",
    "print(rect1.length,rect2.length,rect2.length)\n",
    "# d. Add a new attribute to one of the objects\n",
    "rect1.depth = 10\n",
    "# e. Check if the attribute is available to new objects of the class\n",
    "print(rect1.__dict__)"
   ]
  },
  {
   "cell_type": "code",
   "execution_count": 12,
   "id": "62081524",
   "metadata": {
    "colab": {
     "base_uri": "https://localhost:8080/"
    },
    "id": "62081524",
    "outputId": "28ce19e3-a0bc-49f6-8f6e-6792ceeab7a2"
   },
   "outputs": [
    {
     "name": "stdout",
     "output_type": "stream",
     "text": [
      "8590059804\n"
     ]
    }
   ],
   "source": [
    "# Q4.\n",
    "# a. Create a class Contacts and define a __init__() method.\n",
    "# Take 2 attributes while initializing - name and mobile number.\n",
    "\n",
    "# b. Define a class variable - contact list - in which the objects of the Contacts class\n",
    "# will be appended at the time of instantiation.\n",
    "\n",
    "# c. Define a method which takes a 'name' of a contact (object) as an argument\n",
    "# and returns the mobile number of that contact (object).\n",
    "# Hint: Use the contact list class variable in which the objects are stored to fetch\n",
    "# the mobile number using the name.\n",
    "\n",
    "class Contacts:\n",
    "\n",
    "    '''\n",
    "        Create a class Contacts with attributes name and mobile_number\n",
    "        class Contacts should also have instance method\n",
    "        for fetching the mobile number given the name\n",
    "    '''\n",
    "\n",
    "    contact_list = []\n",
    "\n",
    "    def __init__(self,name,num):\n",
    "        self.name = name\n",
    "        self.mobile_number = num\n",
    "        self.contact_list.append((self.name,self.mobile_number))\n",
    "    \n",
    "    @classmethod\n",
    "    def get_number(self,name):\n",
    "        for contact in self.contact_list:\n",
    "            if contact[0] == name:\n",
    "                  return contact[1]\n",
    "\n",
    "person1 = Contacts('hasna',6363545830)\n",
    "person2 = Contacts('kareem',8590059804)\n",
    "print(person1.get_number('kareem'))\n"
   ]
  },
  {
   "cell_type": "code",
   "execution_count": 9,
   "id": "9a478948",
   "metadata": {
    "id": "9a478948"
   },
   "outputs": [
    {
     "data": {
      "text/plain": [
       "6363545830"
      ]
     },
     "execution_count": 9,
     "metadata": {},
     "output_type": "execute_result"
    }
   ],
   "source": [
    "getattr(person1,'mobile_number')"
   ]
  },
  {
   "cell_type": "code",
   "execution_count": 10,
   "id": "6e61e46e",
   "metadata": {},
   "outputs": [],
   "source": [
    "Contacts.contact_list.append(('shabnam','8590059804'))"
   ]
  },
  {
   "cell_type": "code",
   "execution_count": 11,
   "id": "3c16006c",
   "metadata": {},
   "outputs": [
    {
     "data": {
      "text/plain": [
       "[('hasna', 6363545830), ('kareem', 8590059804), ('shabnam', '8590059804')]"
      ]
     },
     "execution_count": 11,
     "metadata": {},
     "output_type": "execute_result"
    }
   ],
   "source": [
    "getattr(Contacts,'contact_list')"
   ]
  },
  {
   "cell_type": "code",
   "execution_count": null,
   "id": "853c7d89",
   "metadata": {},
   "outputs": [],
   "source": []
  },
  {
   "cell_type": "code",
   "execution_count": null,
   "id": "7a891475",
   "metadata": {},
   "outputs": [],
   "source": []
  }
 ],
 "metadata": {
  "colab": {
   "provenance": []
  },
  "kernelspec": {
   "display_name": "Python 3 (ipykernel)",
   "language": "python",
   "name": "python3"
  },
  "language_info": {
   "codemirror_mode": {
    "name": "ipython",
    "version": 3
   },
   "file_extension": ".py",
   "mimetype": "text/x-python",
   "name": "python",
   "nbconvert_exporter": "python",
   "pygments_lexer": "ipython3",
   "version": "3.10.9"
  }
 },
 "nbformat": 4,
 "nbformat_minor": 5
}
