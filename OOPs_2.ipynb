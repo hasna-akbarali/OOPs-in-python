{
  "cells": [
    {
      "cell_type": "code",
      "execution_count": 5,
      "id": "6d71f6ac",
      "metadata": {
        "id": "6d71f6ac",
        "outputId": "7f00d41a-fe21-4660-faee-85780902560e",
        "colab": {
          "base_uri": "https://localhost:8080/"
        }
      },
      "outputs": [
        {
          "output_type": "stream",
          "name": "stdout",
          "text": [
            "Area of a triangle with side 10 100\n",
            "Perimeter of a triangle with side 10 40\n"
          ]
        }
      ],
      "source": [
        "# Q1.\n",
        "# a. Create a class Square.\n",
        "# Define a initializer that initializes one attribute - side of the square.\n",
        "# b. Define 2 methods -\n",
        "# area and perimeter which returns the area and the perimeter respectively.\n",
        "# c. Change the side attribute to private\n",
        "# d. Create getter and setter for side attribute. Write a logic which does not allow\n",
        "# anyone to set the side to a negative or zero value.\n",
        "\n",
        "# Do we need to change the area and perimeter methods after changing the side attibute\n",
        "# to private?\n",
        "\n",
        "\n",
        "class Square:\n",
        "  def __init__(self,s):\n",
        "    self.__side = s\n",
        "\n",
        "  #Getter\n",
        "  @property\n",
        "  def side(self):\n",
        "    return self.__side\n",
        "\n",
        "  #Setter\n",
        "  @side.setter\n",
        "  def side(self, val):\n",
        "    if self.__side <= 0:\n",
        "      print('Side cannot be 0 or -ve')\n",
        "    else:\n",
        "      self.__side = val\n",
        "\n",
        "  def area(self):\n",
        "    return self.side**2\n",
        "\n",
        "  def perimeter(self):\n",
        "    return self.side*4\n",
        "\n",
        "\n",
        "s1 = Square(10)\n",
        "print(f'Area of a triangle with side {s1.side}',s1.area())\n",
        "print(f'Perimeter of a triangle with side {s1.side}',s1.perimeter())"
      ]
    },
    {
      "cell_type": "code",
      "execution_count": 10,
      "id": "106f43a9",
      "metadata": {
        "id": "106f43a9",
        "outputId": "b797b0e2-7bac-4a21-c817-4efc02526ee4",
        "colab": {
          "base_uri": "https://localhost:8080/"
        }
      },
      "outputs": [
        {
          "output_type": "stream",
          "name": "stdout",
          "text": [
            "Area of a Equilateral Triangle with side 10 43.3\n"
          ]
        }
      ],
      "source": [
        "# Q2.\n",
        "# a. Create a class Triangle with 3 sides as instance variables (attributes).\n",
        "# b. Define a area() method that calculates the area of the given triangle object.\n",
        "# Formula: √(s(s-a)(s-b)(s-c), where, a,b,c are sides of the triangle and s = (a+b+c)/2\n",
        "# c. Create another class EquilateralTriangle which inherits class Triangle.\n",
        "# Define a initializer that initializes one attribute - side of the equilateral triangle.\n",
        "# d. Initialize the parent class from child class\n",
        "# e. Calculate the area of an object of EquilateralTriangle using the area method\n",
        "# of class Triangle.\n",
        "\n",
        "# NOTE: equilateral triangle is a triangle whose all sides are equal.\n",
        "\n",
        "class Triangle:\n",
        "  def __init__(self,a,b,c):\n",
        "    self.a = a\n",
        "    self.b = b\n",
        "    self.c = c\n",
        "\n",
        "  def area(self):\n",
        "    s = (self.a+self.b+self.c)/2\n",
        "    return round((s*(s-self.a)*(s-self.b)*(s-self.c))**0.5,2)\n",
        "\n",
        "class EquilateralTriangle(Triangle):\n",
        "  def __init__(self,a):\n",
        "    self.a = a\n",
        "    super().__init__(a,a,a)\n",
        "\n",
        "s1 = EquilateralTriangle(10)\n",
        "print(f'Area of a Equilateral Triangle with side {s1.a}',s1.area())"
      ]
    },
    {
      "cell_type": "code",
      "execution_count": 12,
      "id": "7a92fdda",
      "metadata": {
        "id": "7a92fdda",
        "outputId": "961e9673-28b0-4cea-eb34-f981fd0cea6b",
        "colab": {
          "base_uri": "https://localhost:8080/"
        }
      },
      "outputs": [
        {
          "output_type": "execute_result",
          "data": {
            "text/plain": [
              "(__main__.F,\n",
              " __main__.D,\n",
              " __main__.A,\n",
              " __main__.E,\n",
              " __main__.B,\n",
              " __main__.Z,\n",
              " __main__.C,\n",
              " object)"
            ]
          },
          "metadata": {},
          "execution_count": 12
        }
      ],
      "source": [
        "# Q3. Find the MRO for class F.\n",
        "\n",
        "class A:\n",
        "    pass\n",
        "\n",
        "class B:\n",
        "    pass\n",
        "\n",
        "class C:\n",
        "    pass\n",
        "\n",
        "class Z:\n",
        "    pass\n",
        "\n",
        "class D(A,B,Z):\n",
        "    pass\n",
        "\n",
        "class E(B,C):\n",
        "    pass\n",
        "\n",
        "class F(D,E,C):\n",
        "    pass\n",
        "\n",
        "# Manually:\n",
        "# F, MRO(D),MRO(E),MRO(C), DEC, O\n",
        "# F, DABZO , EBCO, CO, DECO, O\n",
        "# F, D, ABZO, EBCO,CO,ECO, O\n",
        "# F, D, A, BZO, EBCO, CO, ECO, O\n",
        "# F, D, A, E, BZO, BCO, ECO, O\n",
        "# F, D, A, E, B, ZO, CO, CO, O\n",
        "# F, D, A, E, B, Z, C, O\n",
        "\n",
        "#Python:\n",
        "\n",
        "F.__mro__"
      ]
    },
    {
      "cell_type": "code",
      "execution_count": null,
      "id": "ef04bcea",
      "metadata": {
        "id": "ef04bcea"
      },
      "outputs": [],
      "source": []
    }
  ],
  "metadata": {
    "kernelspec": {
      "display_name": "Python 3 (ipykernel)",
      "language": "python",
      "name": "python3"
    },
    "language_info": {
      "codemirror_mode": {
        "name": "ipython",
        "version": 3
      },
      "file_extension": ".py",
      "mimetype": "text/x-python",
      "name": "python",
      "nbconvert_exporter": "python",
      "pygments_lexer": "ipython3",
      "version": "3.9.7"
    },
    "colab": {
      "provenance": []
    }
  },
  "nbformat": 4,
  "nbformat_minor": 5
}