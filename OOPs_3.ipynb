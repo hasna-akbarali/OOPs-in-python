{
  "cells": [
    {
      "cell_type": "code",
      "execution_count": 6,
      "id": "8ce6ef18",
      "metadata": {
        "id": "8ce6ef18",
        "outputId": "1433c2e2-6dad-440b-8952-90fb70879bd0",
        "colab": {
          "base_uri": "https://localhost:8080/"
        }
      },
      "outputs": [
        {
          "output_type": "stream",
          "name": "stdout",
          "text": [
            "Area of a triangle with side 10 100\n",
            "Perimeter of a triangle with side 10 40\n",
            "Side of square is 10\n",
            "s2 - s1 = 10\n"
          ]
        }
      ],
      "source": [
        "# Q1. This is an enhancement of Q1 of Assignment 2.\n",
        "# a. Define __str__ method for class Square\n",
        "# Verify its usage.\n",
        "\n",
        "# b. Define a method to the class Square which checks if a square object is less than another\n",
        "# square1 < square2\n",
        "# Returns True if side of square1 is less than the side of square2, else returns False\n",
        "\n",
        "# c. Define a method to the class Square which subtracts the areas of 2 square\n",
        "# # square1 - square2\n",
        "# Returns the difference of the areas of both squares (absolute value)\n",
        "\n",
        "class Square:\n",
        "  def __init__(self,s):\n",
        "    self.__side = s\n",
        "\n",
        "  #Getter\n",
        "  @property\n",
        "  def side(self):\n",
        "    return self.__side\n",
        "\n",
        "  #Setter\n",
        "  @side.setter\n",
        "  def side(self, val):\n",
        "    if self.__side <= 0:\n",
        "      print('Side cannot be 0 or -ve')\n",
        "    else:\n",
        "      self.__side = val\n",
        "\n",
        "  def area(self):\n",
        "    return self.side**2\n",
        "\n",
        "  def perimeter(self):\n",
        "    return self.side*4\n",
        "\n",
        "  def __str__(self):\n",
        "    return f'Side of square is {self.side}'\n",
        "\n",
        "  def __gt__(self,other):\n",
        "    return self.side < other.side\n",
        "\n",
        "  def __sub__(self,other):\n",
        "    return self.side - other.side\n",
        "\n",
        "s1 = Square(10)\n",
        "s2 = Square(20)\n",
        "print(f'Area of a triangle with side {s1.side}',s1.area())\n",
        "print(f'Perimeter of a triangle with side {s1.side}',s1.perimeter())\n",
        "print(s1)\n",
        "print(f's2 - s1 = {s2-s1}')\n"
      ]
    },
    {
      "cell_type": "code",
      "execution_count": 13,
      "id": "01f7ddd6",
      "metadata": {
        "id": "01f7ddd6",
        "outputId": "d1bc6bfa-a703-4503-8c55-e25f48d81f7b",
        "colab": {
          "base_uri": "https://localhost:8080/"
        }
      },
      "outputs": [
        {
          "output_type": "stream",
          "name": "stdout",
          "text": [
            "Area of a Equilateral Triangle with side 10 43.3\n"
          ]
        },
        {
          "output_type": "execute_result",
          "data": {
            "text/plain": [
              "(__main__.EquilateralTriangle, __main__.Triangle, object)"
            ]
          },
          "metadata": {},
          "execution_count": 13
        }
      ],
      "source": [
        "# Q2. This is enhancement of Q2 of Assignment 2.\n",
        "# a. Modify the EquilateralTriangle class to have the area function of it's own.\n",
        "# Formula: √3/4a2\n",
        "# b. Check which area method is called? (Parent's or Child's)\n",
        "# c. Verify it using MRO\n",
        "\n",
        "class Triangle:\n",
        "  def __init__(self,a,b,c):\n",
        "    self.a = a\n",
        "    self.b = b\n",
        "    self.c = c\n",
        "\n",
        "  def area(self):\n",
        "    s = (self.a+self.b+self.c)/2\n",
        "    return round((s*(s-self.a)*(s-self.b)*(s-self.c))**0.5,2)\n",
        "\n",
        "class EquilateralTriangle(Triangle):\n",
        "  def __init__(self,a):\n",
        "    self.a = a\n",
        "    super().__init__(a,a,a)\n",
        "\n",
        "  def area(self):\n",
        "    s = ((3**0.5) / 4 ) * (self.a**2)\n",
        "    return round(s,2)\n",
        "\n",
        "s1 = EquilateralTriangle(10)\n",
        "print(f'Area of a Equilateral Triangle with side {s1.a}',s1.area())\n",
        "EquilateralTriangle.__mro__ #Equilateral Triangle itself"
      ]
    },
    {
      "cell_type": "code",
      "execution_count": null,
      "id": "90aba64c",
      "metadata": {
        "id": "90aba64c"
      },
      "outputs": [],
      "source": []
    }
  ],
  "metadata": {
    "kernelspec": {
      "display_name": "Python 3 (ipykernel)",
      "language": "python",
      "name": "python3"
    },
    "language_info": {
      "codemirror_mode": {
        "name": "ipython",
        "version": 3
      },
      "file_extension": ".py",
      "mimetype": "text/x-python",
      "name": "python",
      "nbconvert_exporter": "python",
      "pygments_lexer": "ipython3",
      "version": "3.9.7"
    },
    "colab": {
      "provenance": []
    }
  },
  "nbformat": 4,
  "nbformat_minor": 5
}